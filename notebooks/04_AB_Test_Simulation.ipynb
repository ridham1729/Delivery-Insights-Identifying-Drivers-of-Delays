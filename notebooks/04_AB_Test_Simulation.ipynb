{
 "cells": [
  {
   "cell_type": "markdown",
   "metadata": {},
   "source": [
    "# AB Test Simulation"
   ]
  },
  {
   "cell_type": "markdown",
   "metadata": {},
   "source": [
    "- In this notebook, we simulate an A/B test to study the impact of reducing busy ratio on delivery lateness. \n",
    "\n",
    "- We randomly assign orders to a control group (no change) and a treatment group (busy ratio artificially reduced), then analyze whether this intervention leads to improved on-time delivery rates."
   ]
  },
  {
   "cell_type": "markdown",
   "metadata": {},
   "source": [
    "# Import Libraries"
   ]
  },
  {
   "cell_type": "code",
   "execution_count": 7,
   "metadata": {},
   "outputs": [],
   "source": [
    "import pandas as pd \n",
    "import numpy as np \n",
    "import matplotlib.pyplot as plt\n",
    "from scipy.stats import chi2_contingency, mannwhitneyu, ttest_rel\n",
    "from statsmodels.stats.proportion import proportions_ztest\n",
    "import statsmodels.formula.api as smf\n"
   ]
  },
  {
   "cell_type": "code",
   "execution_count": 8,
   "metadata": {},
   "outputs": [],
   "source": [
    "df = pd.read_csv(\"stattest_dataset.csv\")"
   ]
  },
  {
   "cell_type": "markdown",
   "metadata": {},
   "source": [
    "# Busy Ratio"
   ]
  },
  {
   "cell_type": "markdown",
   "metadata": {},
   "source": [
    "We tested whether reducing the busy ratio of dashers in Market 1 could decrease the chance of late deliveries.\n",
    "\n",
    "Control group: Current conditions.\n",
    "\n",
    "Treatment group: Busy ratio reduced by 30%."
   ]
  },
  {
   "cell_type": "code",
   "execution_count": 9,
   "metadata": {},
   "outputs": [],
   "source": [
    "df_m1 = df[df[\"market_id\"] == 1].copy()\n",
    "\n",
    "df_m1[\"group\"] = np.random.choice([\"control\", \"treatment\"], size=len(df_m1))\n",
    "\n",
    "df_m1.loc[df_m1[\"group\"] == \"treatment\", \"busy_ratio\"] *= 0.70\n"
   ]
  },
  {
   "cell_type": "markdown",
   "metadata": {},
   "source": [
    "Null hypothesis (H₀): The proportion of on-time deliveries is the same in the treatment group (reduced busy ratio) and the control group.\n",
    "\n",
    "\n",
    "Alternative hypothesis (H₁): The treatment group has a higher on-time rate than the control group.\n"
   ]
  },
  {
   "cell_type": "code",
   "execution_count": 10,
   "metadata": {},
   "outputs": [
    {
     "name": "stdout",
     "output_type": "stream",
     "text": [
      "Z-statistic: -0.0022877610330355688, p-value: 0.500912683807391\n"
     ]
    }
   ],
   "source": [
    "control = df_m1[df_m1[\"group\"] == \"control\"][\"is_on_time\"]\n",
    "treatment = df_m1[df_m1[\"group\"] == \"treatment\"][\"is_on_time\"]\n",
    "\n",
    "count = [treatment.sum(), control.sum()]  # treatment first\n",
    "nobs = [len(treatment), len(control)]\n",
    "\n",
    "stat, pval = proportions_ztest(count, nobs, alternative='larger')  # test if treatment > control\n",
    "print(f\"Z-statistic: {stat}, p-value: {pval}\")\n"
   ]
  },
  {
   "cell_type": "markdown",
   "metadata": {},
   "source": [
    "Interpretation:\n",
    "\n",
    "- The p-value (0.407\n",
    ") is much larger than 0.05, so we fail to reject the null hypothesis.\n",
    "\n",
    "- This means there is no statistically significant difference in on-time rate between the treatment group (reduced busy_ratio) and the control group."
   ]
  },
  {
   "cell_type": "markdown",
   "metadata": {},
   "source": [
    "# Order to Dasher Ratio"
   ]
  },
  {
   "cell_type": "markdown",
   "metadata": {},
   "source": [
    "Let's do the same for Order to Dasher Ratio"
   ]
  },
  {
   "cell_type": "code",
   "execution_count": 11,
   "metadata": {},
   "outputs": [],
   "source": [
    "df_m1 = df[df[\"market_id\"] == 1].copy()\n",
    "\n",
    "df_m1[\"group\"] = np.random.choice([\"control\", \"treatment\"], size=len(df_m1))\n",
    "\n",
    "df_m1.loc[df_m1[\"group\"] == \"treatment\", \"order_to_dasher_ratio\"] *= 0.5\n"
   ]
  },
  {
   "cell_type": "markdown",
   "metadata": {},
   "source": [
    "Null hypothesis (H₀): The proportion of on-time deliveries is the same in the treatment group (reduced busy ratio) and the control group.\n",
    "\n",
    "\n",
    "Alternative hypothesis (H₁): The treatment group has a higher on-time rate than the control group.\n"
   ]
  },
  {
   "cell_type": "code",
   "execution_count": 12,
   "metadata": {},
   "outputs": [
    {
     "name": "stdout",
     "output_type": "stream",
     "text": [
      "Z-statistic: 0.5361880744792235, p-value: 0.29591428732371794\n"
     ]
    }
   ],
   "source": [
    "\n",
    "control = df_m1[df_m1[\"group\"] == \"control\"][\"is_on_time\"]\n",
    "treatment = df_m1[df_m1[\"group\"] == \"treatment\"][\"is_on_time\"]\n",
    "\n",
    "count = [treatment.sum(), control.sum()]  # treatment first\n",
    "nobs = [len(treatment), len(control)]\n",
    "\n",
    "stat, pval = proportions_ztest(count, nobs, alternative='larger')  # test if treatment > control\n",
    "print(f\"Z-statistic: {stat}, p-value: {pval}\")\n"
   ]
  },
  {
   "cell_type": "markdown",
   "metadata": {},
   "source": [
    "Interpretation:\n",
    "\n",
    "- The p-value (0.447\n",
    ") is much larger than 0.05, so we fail to reject the null hypothesis.\n",
    "\n",
    "- This means there is no statistically significant difference in on-time rate between the treatment group (reduced order_to_dasher_ratio) and the control group."
   ]
  },
  {
   "cell_type": "markdown",
   "metadata": {},
   "source": [
    "# Next Steps:\n",
    "\n",
    "Final reccomendations in the readme."
   ]
  }
 ],
 "metadata": {
  "kernelspec": {
   "display_name": "Python 3.11 (venv)",
   "language": "python",
   "name": "venv311"
  },
  "language_info": {
   "codemirror_mode": {
    "name": "ipython",
    "version": 3
   },
   "file_extension": ".py",
   "mimetype": "text/x-python",
   "name": "python",
   "nbconvert_exporter": "python",
   "pygments_lexer": "ipython3",
   "version": "3.11.8"
  }
 },
 "nbformat": 4,
 "nbformat_minor": 2
}
