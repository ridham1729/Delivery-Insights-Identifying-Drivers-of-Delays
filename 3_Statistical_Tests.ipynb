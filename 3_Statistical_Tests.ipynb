{
 "cells": [
  {
   "cell_type": "markdown",
   "metadata": {},
   "source": [
    "# Statistical Tests"
   ]
  },
  {
   "cell_type": "markdown",
   "metadata": {},
   "source": [
    "This notebook builds on the KPI breakdown by performing statistical tests to determine whether key performance differences between Market 1 and other markets are statistically significant.\n",
    "The focus is on validating whether observed patterns (e.g., higher busy ratio, certain cuisine delays) are meaningful and not due to random variation."
   ]
  },
  {
   "cell_type": "markdown",
   "metadata": {},
   "source": [
    "# Import Libraries"
   ]
  },
  {
   "cell_type": "code",
   "execution_count": 39,
   "metadata": {},
   "outputs": [],
   "source": [
    "import numpy as np\n",
    "import pandas as pd\n",
    "\n",
    "import matplotlib.pyplot as plt\n",
    "import seaborn as sns\n",
    "\n",
    "from scipy.stats import chi2_contingency, mannwhitneyu, spearmanr, ttest_ind, ttest_rel\n",
    "from statsmodels.stats.proportion import proportions_ztest\n",
    "\n",
    "import statsmodels.api as sm\n",
    "import statsmodels.formula.api as smf\n",
    "\n",
    "\n"
   ]
  },
  {
   "cell_type": "code",
   "execution_count": 11,
   "metadata": {},
   "outputs": [],
   "source": [
    "df = pd.read_csv(\"/Users/ridhampatel/Documents/DS/Projects/Doordash/kpi_dataset.csv\")"
   ]
  },
  {
   "cell_type": "markdown",
   "metadata": {},
   "source": [
    "# Are the On-time delivery rates are the same across all markets?"
   ]
  },
  {
   "cell_type": "markdown",
   "metadata": {},
   "source": [
    "Hypotheses:\n",
    "\n",
    "- Null (H₀): On-time delivery rates are the same across all markets.\n",
    "\n",
    "- Alternative (H₁): At least one market’s on-time delivery rate differs from the others.\n",
    "\n",
    "We use a Chi-square test of independence to see if the proportion of on-time vs late deliveries is independent of market."
   ]
  },
  {
   "cell_type": "code",
   "execution_count": 12,
   "metadata": {},
   "outputs": [
    {
     "name": "stdout",
     "output_type": "stream",
     "text": [
      "Chi-square statistic = 359.6883\n",
      "Degrees of freedom = 5\n",
      "P-value = 1.436e-75\n",
      "Significant differences in on-time performance across markets.\n"
     ]
    }
   ],
   "source": [
    "contingency = pd.crosstab(df['market_id'], df['is_on_time'])\n",
    "\n",
    "# Chi-square test\n",
    "chi_stat, p_val, dof, expected = chi2_contingency(contingency)\n",
    "\n",
    "print(f\"Chi-square statistic = {chi_stat:.4f}\")\n",
    "print(f\"Degrees of freedom = {dof}\")\n",
    "print(f\"P-value = {p_val:.4g}\")\n",
    "\n",
    "if p_val < 0.05:\n",
    "    print(\"Significant differences in on-time performance across markets.\")\n",
    "else:\n",
    "    print(\"No significant differences between markets.\")"
   ]
  },
  {
   "cell_type": "markdown",
   "metadata": {},
   "source": [
    "The chi-square test confirms that on-time performance varies significantly between markets (p < 0.001)."
   ]
  },
  {
   "cell_type": "markdown",
   "metadata": {},
   "source": [
    "# Are Market 1 and Market 5 Performance Rates Different?"
   ]
  },
  {
   "cell_type": "code",
   "execution_count": 13,
   "metadata": {},
   "outputs": [
    {
     "name": "stdout",
     "output_type": "stream",
     "text": [
      "Z-statistic = -15.4972\n",
      "P-value = 3.623e-54\n",
      "Market 1 and Market 5 differ significantly in on-time performance.\n",
      "Difference in proportions = -5.68%\n"
     ]
    }
   ],
   "source": [
    "\n",
    "market1 = df[df['market_id'] == 1]\n",
    "market5 = df[df['market_id'] == 5]\n",
    "\n",
    "count = [market1['is_on_time'].sum(), market5['is_on_time'].sum()]\n",
    "nobs = [len(market1), len(market5)]\n",
    "\n",
    "# z-test for proportions\n",
    "stat, p_val = proportions_ztest(count, nobs)\n",
    "\n",
    "print(f\"Z-statistic = {stat:.4f}\")\n",
    "print(f\"P-value = {p_val:.4g}\")\n",
    "\n",
    "if p_val < 0.05:\n",
    "    print(\"Market 1 and Market 5 differ significantly in on-time performance.\")\n",
    "else:\n",
    "    print(\"No significant difference between Market 1 and Market 5.\")\n",
    "\n",
    "# Effect size\n",
    "prop_diff = count[0]/nobs[0] - count[1]/nobs[1]\n",
    "print(f\"Difference in proportions = {prop_diff:.2%}\")\n"
   ]
  },
  {
   "cell_type": "markdown",
   "metadata": {},
   "source": [
    "The two-proportion z-test shows that Market 1’s on-time rate is 5.68 percentage points lower than Market 5’s, and this difference is statistically significant (p < 0.001).\n",
    "\n",
    "This supports prioritizing Market 1 for root cause analysis."
   ]
  },
  {
   "cell_type": "markdown",
   "metadata": {},
   "source": [
    "# Does the worst market have more bad cuisines?"
   ]
  },
  {
   "cell_type": "code",
   "execution_count": 14,
   "metadata": {},
   "outputs": [
    {
     "name": "stdout",
     "output_type": "stream",
     "text": [
      "['brazilian', 'nepalese', 'steak', 'cajun', 'sushi']\n"
     ]
    }
   ],
   "source": [
    "cuisine_perf = (\n",
    "    df.groupby(\"cuisine_grouped\")[\"is_on_time\"]\n",
    "    .mean()\n",
    "    .sort_values()\n",
    ")\n",
    "worst_5_cuisines = cuisine_perf.index[:5].tolist()\n",
    "print(worst_5_cuisines)\n"
   ]
  },
  {
   "cell_type": "code",
   "execution_count": 15,
   "metadata": {},
   "outputs": [],
   "source": [
    "df[\"is_bad_cuisine\"] = df[\"cuisine_grouped\"].isin(worst_5_cuisines).astype(int)\n"
   ]
  },
  {
   "cell_type": "markdown",
   "metadata": {},
   "source": [
    "Null hypothesis (H₀):\n",
    "There is no association between market (1 vs 5) and the proportion of bad cuisines. \n",
    "\n",
    "Alternative hypothesis (H₁):\n",
    "There is an association between market and the proportion of bad cuisines. The distribution of bad and not bad cuisines differs between Market 1 and Market 5."
   ]
  },
  {
   "cell_type": "code",
   "execution_count": 16,
   "metadata": {},
   "outputs": [
    {
     "name": "stdout",
     "output_type": "stream",
     "text": [
      "is_bad_cuisine      0    1\n",
      "market_id                 \n",
      "1.0             36926  909\n",
      "5.0             17377  530\n",
      "Chi-square: 14.7842\n",
      "P-value: 0.0001205\n"
     ]
    }
   ],
   "source": [
    "\n",
    "contingency = pd.crosstab(df[\"market_id\"], df[\"is_bad_cuisine\"]).loc[[1,5]]\n",
    "print(contingency)\n",
    "\n",
    "chi2, p, dof, expected = chi2_contingency(contingency)\n",
    "print(f\"Chi-square: {chi2:.4f}\")\n",
    "print(f\"P-value: {p:.4g}\")\n"
   ]
  },
  {
   "cell_type": "markdown",
   "metadata": {},
   "source": [
    "- The very low p-value (< 0.05) indicates a statistically significant difference in the distribution of bad cuisines between Market 1 and Market 5. \n",
    "\n",
    "- Market 1 has a higher count of bad cuisines compared to Market 5, suggesting the worst market indeed has more bad cuisines."
   ]
  },
  {
   "cell_type": "markdown",
   "metadata": {},
   "source": [
    "# Are Delivery Times for the Same Cuisines Slower in Market 1 Than in Market 5?"
   ]
  },
  {
   "cell_type": "code",
   "execution_count": 17,
   "metadata": {},
   "outputs": [],
   "source": [
    "counts_m1 = df[df[\"market_id\"] == 1][\"cuisine_grouped\"].value_counts()\n",
    "counts_m5 = df[df[\"market_id\"] == 5][\"cuisine_grouped\"].value_counts()\n",
    "\n",
    "# Only keep cuisines that have >=200 orders in both markets\n",
    "common_cuisines = counts_m1[counts_m1 >= 200].index.intersection(counts_m5[counts_m5 >= 200].index)\n",
    "\n",
    "filtered_df = df[(df[\"market_id\"].isin([1, 5])) & (df[\"cuisine_grouped\"].isin(common_cuisines))]\n"
   ]
  },
  {
   "cell_type": "code",
   "execution_count": 18,
   "metadata": {},
   "outputs": [
    {
     "data": {
      "text/plain": [
       "Index(['american', 'pizza', 'japanese', 'mexican', 'burger', 'fast', 'italian',\n",
       "       'sandwich', 'chinese', 'breakfast', 'mediterranean', 'dessert', 'thai',\n",
       "       'other', 'salad', 'cafe', 'vietnamese', 'indian', 'unknown', 'sushi',\n",
       "       'greek', 'asian', 'korean'],\n",
       "      dtype='object', name='cuisine_grouped')"
      ]
     },
     "execution_count": 18,
     "metadata": {},
     "output_type": "execute_result"
    }
   ],
   "source": [
    "common_cuisines"
   ]
  },
  {
   "cell_type": "code",
   "execution_count": 19,
   "metadata": {},
   "outputs": [],
   "source": [
    "lateness_by_market = (\n",
    "    filtered_df\n",
    "    .groupby([\"market_id\", \"cuisine_grouped\"])[\"is_late\"]\n",
    "    .mean()\n",
    "    .unstack(level=0)  # Columns: market_id (1 and 5), Rows: cuisines\n",
    "    .rename(columns={1: \"Market 1\", 5: \"Market 5\"})\n",
    ")\n",
    "\n",
    "lateness_by_market[\"Diff (M1 - M5)\"] = lateness_by_market[\"Market 1\"] - lateness_by_market[\"Market 5\"]\n"
   ]
  },
  {
   "cell_type": "markdown",
   "metadata": {},
   "source": [
    "Hypotheses:\n",
    "\n",
    "H₀ (null): For the same cuisines, the mean lateness in Market 1 is equal to the mean lateness in Market 5.\n",
    "\n",
    "H₁ (one-tailed): For the same cuisines, the mean lateness in Market 1 is greater than the mean lateness in Market 5."
   ]
  },
  {
   "cell_type": "code",
   "execution_count": 20,
   "metadata": {},
   "outputs": [
    {
     "name": "stdout",
     "output_type": "stream",
     "text": [
      "Paired t-test p-value: 0.000005\n"
     ]
    }
   ],
   "source": [
    "\n",
    "valid_lateness = lateness_by_market.dropna()\n",
    "\n",
    "# Paired t-test\n",
    "stat, p_value = ttest_rel(valid_lateness[\"Market 1\"], valid_lateness[\"Market 5\"])\n",
    "\n",
    "print(f\"Paired t-test p-value: {p_value:f}\")"
   ]
  },
  {
   "cell_type": "code",
   "execution_count": 21,
   "metadata": {},
   "outputs": [],
   "source": [
    "df['is_late_int'] = df['is_late'].astype(int)"
   ]
  },
  {
   "cell_type": "markdown",
   "metadata": {},
   "source": [
    "Insight:\n",
    "\n",
    "Paired t-test (same cuisines) → p = 0.000012\n",
    "\n",
    "Market 1 is consistently slower than Market 5 even for the same cuisines, pointing to market-driven delays (e.g., driver supply, traffic, batching) rather than cuisine type."
   ]
  },
  {
   "cell_type": "markdown",
   "metadata": {},
   "source": [
    "# Impact of Hour of Day on Lateness Rates\n"
   ]
  },
  {
   "cell_type": "code",
   "execution_count": 22,
   "metadata": {},
   "outputs": [],
   "source": [
    "hourly_lateness = (\n",
    "    df[df[\"market_id\"].isin([1, 5])]\n",
    "    .groupby([\"market_id\", \"hour_of_day\"])[\"is_late\"]\n",
    "    .agg(late_rate=lambda x: x.mean(), total_orders=\"count\")\n",
    "    .reset_index()\n",
    ")\n"
   ]
  },
  {
   "cell_type": "code",
   "execution_count": 23,
   "metadata": {},
   "outputs": [
    {
     "data": {
      "image/png": "[encoded data removed]",
      "text/plain": [
       "<Figure size 1200x600 with 1 Axes>"
      ]
     },
     "metadata": {},
     "output_type": "display_data"
    }
   ],
   "source": [
    "import matplotlib.pyplot as plt\n",
    "\n",
    "pivot = hourly_lateness.pivot(index=\"hour_of_day\", columns=\"market_id\", values=\"late_rate\")\n",
    "\n",
    "plt.figure(figsize=(12, 6))\n",
    "plt.plot(pivot.index, pivot[1], label=\"Market 1\", marker='o')\n",
    "plt.plot(pivot.index, pivot[5], label=\"Market 5\", marker='o')\n",
    "plt.title(\"Late Rate by Hour of Day (Market 1 vs Market 5)\")\n",
    "plt.xlabel(\"Hour of Day\")\n",
    "plt.ylabel(\"Late Rate\")\n",
    "plt.xticks(range(24))\n",
    "plt.legend()\n",
    "plt.grid(True)\n",
    "plt.show()\n"
   ]
  },
  {
   "cell_type": "code",
   "execution_count": 24,
   "metadata": {},
   "outputs": [],
   "source": [
    "df['is_late_int'] = df['is_late'].astype(int)\n",
    "df[\"market_1\"] = (df[\"market_id\"] == 1).astype(int)\n"
   ]
  },
  {
   "cell_type": "markdown",
   "metadata": {},
   "source": [
    "- We define problematic hours as the time slots with the lowest on-time delivery rates to focus analysis on periods where lateness is already worst.\n",
    "\n",
    "- This helps reveal whether Market 1’s poor performance is driven by these bad hours or persists even outside them, pointing to deeper structural issues."
   ]
  },
  {
   "cell_type": "code",
   "execution_count": 25,
   "metadata": {},
   "outputs": [
    {
     "name": "stdout",
     "output_type": "stream",
     "text": [
      "Optimization terminated successfully.\n",
      "         Current function value: 0.499584\n",
      "         Iterations 6\n",
      "                           Logit Regression Results                           \n",
      "==============================================================================\n",
      "Dep. Variable:            is_late_int   No. Observations:               180240\n",
      "Model:                          Logit   Df Residuals:                   180236\n",
      "Method:                           MLE   Df Model:                            3\n",
      "Date:                Fri, 15 Aug 2025   Pseudo R-squ.:                 0.04435\n",
      "Time:                        12:16:48   Log-Likelihood:                -90045.\n",
      "converged:                       True   LL-Null:                       -94224.\n",
      "Covariance Type:            nonrobust   LLR p-value:                     0.000\n",
      "============================================================================================\n",
      "                               coef    std err          z      P>|z|      [0.025      0.975]\n",
      "--------------------------------------------------------------------------------------------\n",
      "Intercept                    0.6155      0.009     67.292      0.000       0.598       0.633\n",
      "market_1                     0.4443      0.021     20.937      0.000       0.403       0.486\n",
      "is_problem_hour              1.1124      0.013     85.198      0.000       1.087       1.138\n",
      "market_1:is_problem_hour    -0.3979      0.030    -13.418      0.000      -0.456      -0.340\n",
      "============================================================================================\n"
     ]
    }
   ],
   "source": [
    "worst_hours = [2, 3, 1, 15, 19, 16, 20]\n",
    "\n",
    "df[\"is_problem_hour\"] = df[\"hour_of_day\"].isin(worst_hours).astype(int)\n",
    "\n",
    "import statsmodels.formula.api as smf\n",
    "model = smf.logit(\"is_late_int ~ market_1 * is_problem_hour\", data=df).fit()\n",
    "print(model.summary())\n"
   ]
  },
  {
   "cell_type": "markdown",
   "metadata": {},
   "source": [
    "Key Findings\n",
    "\n",
    "1. Market 1 effect (0.4443, p<0.001)\n",
    "\n",
    "   In non-problem hours, Market 1 has higher lateness odds than Market 5.\n",
    "   \n",
    "   → Confirms there’s a structural performance issue not tied to bad hours alone.\n",
    "\n",
    "2. Problem hours effect (1.1124, p<0.001)\n",
    "\n",
    "   In Market 5, lateness odds are much worse during problem hours vs. other hours.\n",
    "   \n",
    "   → Problem hours are genuinely tough regardless of market.\n",
    "\n",
    "3. Interaction (–0.3979, p<0.001)\n",
    "\n",
    "   Surprisingly, Market 1’s lateness increases less during problem hours compared to Market 5.\n",
    "   \n",
    "   → Suggests Market 1 is already bad all the time, so the relative jump during problem hours is smaller."
   ]
  },
  {
   "cell_type": "markdown",
   "metadata": {},
   "source": [
    "# Are Market 1’s Worst Hours Driven by Higher Order Volumes?"
   ]
  },
  {
   "cell_type": "code",
   "execution_count": 26,
   "metadata": {},
   "outputs": [],
   "source": [
    "markets = [1, 5]\n",
    "df_markets = df[df['market_id'].isin(markets)]\n",
    "\n",
    "volume_by_hour = (\n",
    "    df_markets\n",
    "    .groupby(['market_id', 'hour_of_day'])\n",
    "    .size()\n",
    "    .reset_index(name='order_volume')\n",
    ")\n",
    "\n",
    "volume_pivot = volume_by_hour.pivot(\n",
    "    index='hour_of_day',\n",
    "    columns='market_id',\n",
    "    values='order_volume'\n",
    ").fillna(0)\n"
   ]
  },
  {
   "cell_type": "code",
   "execution_count": 27,
   "metadata": {},
   "outputs": [
    {
     "data": {
      "image/png": "[encoded data removed]",
      "text/plain": [
       "<Figure size 1200x600 with 1 Axes>"
      ]
     },
     "metadata": {},
     "output_type": "display_data"
    }
   ],
   "source": [
    "import matplotlib.pyplot as plt\n",
    "\n",
    "plt.figure(figsize=(12,6))\n",
    "plt.plot(volume_pivot.index, volume_pivot[1], label='Market 1')\n",
    "plt.plot(volume_pivot.index, volume_pivot[5], label='Market 5')\n",
    "\n",
    "plt.xlabel('Hour of Day')\n",
    "plt.ylabel('Order Volume')\n",
    "plt.title('Order Volume by Hour: Market 1 vs Market 5')\n",
    "plt.legend()\n",
    "plt.grid(True)\n",
    "plt.tight_layout()\n",
    "plt.show()\n"
   ]
  },
  {
   "cell_type": "markdown",
   "metadata": {},
   "source": [
    "The chart shows that **Market 1 consistently handles higher order volumes** compared to Market 5, with especially sharp peaks in the early morning (around 2–3 AM) and evening hours (around 8–9 PM). \n",
    "\n",
    "These spikes indicate periods of high operational load, which could put pressure on driver supply and lead to delivery delays.\n"
   ]
  },
  {
   "cell_type": "code",
   "execution_count": 28,
   "metadata": {},
   "outputs": [
    {
     "data": {
      "text/html": [
       "<div>\n",
       "<style scoped>\n",
       "    .dataframe tbody tr th:only-of-type {\n",
       "        vertical-align: middle;\n",
       "    }\n",
       "\n",
       "    .dataframe tbody tr th {\n",
       "        vertical-align: top;\n",
       "    }\n",
       "\n",
       "    .dataframe thead th {\n",
       "        text-align: right;\n",
       "    }\n",
       "</style>\n",
       "<table border=\"1\" class=\"dataframe\">\n",
       "  <thead>\n",
       "    <tr style=\"text-align: right;\">\n",
       "      <th></th>\n",
       "      <th>market_id</th>\n",
       "      <th>num_orders</th>\n",
       "    </tr>\n",
       "  </thead>\n",
       "  <tbody>\n",
       "    <tr>\n",
       "      <th>0</th>\n",
       "      <td>1.0</td>\n",
       "      <td>23563</td>\n",
       "    </tr>\n",
       "    <tr>\n",
       "      <th>1</th>\n",
       "      <td>5.0</td>\n",
       "      <td>10725</td>\n",
       "    </tr>\n",
       "  </tbody>\n",
       "</table>\n",
       "</div>"
      ],
      "text/plain": [
       "   market_id  num_orders\n",
       "0        1.0       23563\n",
       "1        5.0       10725"
      ]
     },
     "execution_count": 28,
     "metadata": {},
     "output_type": "execute_result"
    }
   ],
   "source": [
    "problematic_hours = [2, 3, 1, 15, 19, 16, 20]\n",
    "\n",
    "df_problematic = df[(df['hour_of_day'].isin(problematic_hours)) & \n",
    "                    (df['market_id'].isin([1, 5]))]\n",
    "\n",
    "orders_by_market = df_problematic.groupby('market_id').size().reset_index(name='num_orders')\n",
    "orders_by_market\n"
   ]
  },
  {
   "cell_type": "markdown",
   "metadata": {},
   "source": [
    "Null Hypothesis (H₀): The distribution of orders in Market 1 is less than or equal to the distribution in Market 5 during problematic hours.\n",
    "\n",
    "Alternative Hypothesis (H₁): The distribution of orders in Market 1 is greater than the distribution in Market 5.\n",
    "\n"
   ]
  },
  {
   "cell_type": "code",
   "execution_count": 29,
   "metadata": {},
   "outputs": [
    {
     "name": "stdout",
     "output_type": "stream",
     "text": [
      "Mann-Whitney U statistic: 37.0, p-value: 0.06410256410256411\n"
     ]
    }
   ],
   "source": [
    "# Count orders per hour for each market\n",
    "orders_per_hour = df_problematic.groupby(['market_id', 'hour_of_day']).size().reset_index(name='num_orders')\n",
    "\n",
    "# Separate for the two markets\n",
    "market1_counts = orders_per_hour[orders_per_hour['market_id']==1]['num_orders']\n",
    "market5_counts = orders_per_hour[orders_per_hour['market_id']==5]['num_orders']\n",
    "from scipy.stats import mannwhitneyu\n",
    "\n",
    "# Test if Market 1 > Market 5\n",
    "stat, p = mannwhitneyu(market1_counts, market5_counts, alternative='greater')\n",
    "print(f\"Mann-Whitney U statistic: {stat}, p-value: {p}\")\n"
   ]
  },
  {
   "cell_type": "markdown",
   "metadata": {},
   "source": [
    "Conclusion\n",
    "- p > 0.05 → Not statistically significant at the 5% level.\n",
    "\n",
    "- While the total number of orders is higher in Market 1, the per-hour distribution does not show a statistically significant difference from Market 5.\n",
    "\n",
    "- Therefore, the worse performance of Market 1 cannot be explained by higher order volume during these problematic hours."
   ]
  },
  {
   "cell_type": "markdown",
   "metadata": {},
   "source": [
    "# Comparison of Order Size During Problematic Hours: Market 1 vs Market 5\n"
   ]
  },
  {
   "cell_type": "markdown",
   "metadata": {},
   "source": [
    "Let's start with whether order size (number of items) is associated with lateness"
   ]
  },
  {
   "cell_type": "markdown",
   "metadata": {},
   "source": [
    "Hypotheses:\n",
    "\n",
    "Null Hypothesis (H₀):\n",
    "There is no association or larger orders are not more likely to be late.\n",
    "\n",
    "Alternative Hypothesis (H₁):\n",
    "Larger orders are more likely to be late (negative correlation with is_on_time).\n"
   ]
  },
  {
   "cell_type": "code",
   "execution_count": 30,
   "metadata": {},
   "outputs": [
    {
     "name": "stdout",
     "output_type": "stream",
     "text": [
      "Market 1: Spearman correlation = -0.103, p-value = 0.0000\n",
      "  Statistically significant association for Market 1.\n",
      "  Larger orders are associated with more lateness in Market 1.\n",
      "Market 5: Spearman correlation = -0.129, p-value = 0.0000\n",
      "  Statistically significant association for Market 5.\n",
      "  Larger orders are associated with more lateness in Market 5.\n"
     ]
    }
   ],
   "source": [
    "\n",
    "for market in [1, 5]:\n",
    "    df_market = df_problematic[df_problematic['market_id']==market]\n",
    "    corr, p_value = spearmanr(df_market['total_items'], df_market['is_on_time'])\n",
    "    print(f\"Market {market}: Spearman correlation = {corr:.3f}, p-value = {p_value:.4f}\")\n",
    "    \n",
    "    if p_value < 0.05:\n",
    "        print(f\"  Statistically significant association for Market {market}.\")\n",
    "        if corr < 0:\n",
    "            print(f\"  Larger orders are associated with more lateness in Market {market}.\")\n",
    "        else:\n",
    "            print(f\"  Larger orders are associated with being on-time in Market {market}.\")\n",
    "    else:\n",
    "        print(f\"  No statistically significant association found for Market {market}.\")\n"
   ]
  },
  {
   "cell_type": "markdown",
   "metadata": {},
   "source": [
    "Now, we know order size is significantly associated with lateness in both markets, the next step is to see whether Market 1 actually has larger orders than Market 5"
   ]
  },
  {
   "cell_type": "code",
   "execution_count": 31,
   "metadata": {},
   "outputs": [
    {
     "name": "stderr",
     "output_type": "stream",
     "text": [
      "/var/folders/w6/6zbxrfhs3673cn004nn1v62h0000gn/T/ipykernel_1810/106399677.py:4: FutureWarning: The default of observed=False is deprecated and will be changed to True in a future version of pandas. Pass observed=False to retain current behavior or observed=True to adopt the future default and silence this warning.\n",
      "  df_markets.groupby(['market_id', 'volume_bin'])['is_late'].mean().unstack()\n"
     ]
    },
    {
     "data": {
      "text/html": [
       "<div>\n",
       "<style scoped>\n",
       "    .dataframe tbody tr th:only-of-type {\n",
       "        vertical-align: middle;\n",
       "    }\n",
       "\n",
       "    .dataframe tbody tr th {\n",
       "        vertical-align: top;\n",
       "    }\n",
       "\n",
       "    .dataframe thead th {\n",
       "        text-align: right;\n",
       "    }\n",
       "</style>\n",
       "<table border=\"1\" class=\"dataframe\">\n",
       "  <thead>\n",
       "    <tr style=\"text-align: right;\">\n",
       "      <th>volume_bin</th>\n",
       "      <th>Low</th>\n",
       "      <th>Med</th>\n",
       "      <th>High</th>\n",
       "    </tr>\n",
       "    <tr>\n",
       "      <th>market_id</th>\n",
       "      <th></th>\n",
       "      <th></th>\n",
       "      <th></th>\n",
       "    </tr>\n",
       "  </thead>\n",
       "  <tbody>\n",
       "    <tr>\n",
       "      <th>1.0</th>\n",
       "      <td>0.77500</td>\n",
       "      <td>0.822309</td>\n",
       "      <td>0.862334</td>\n",
       "    </tr>\n",
       "    <tr>\n",
       "      <th>5.0</th>\n",
       "      <td>0.70618</td>\n",
       "      <td>0.763045</td>\n",
       "      <td>0.836035</td>\n",
       "    </tr>\n",
       "  </tbody>\n",
       "</table>\n",
       "</div>"
      ],
      "text/plain": [
       "volume_bin      Low       Med      High\n",
       "market_id                              \n",
       "1.0         0.77500  0.822309  0.862334\n",
       "5.0         0.70618  0.763045  0.836035"
      ]
     },
     "execution_count": 31,
     "metadata": {},
     "output_type": "execute_result"
    }
   ],
   "source": [
    "df['volume_bin'] = pd.qcut(df['total_items'], q=3, labels=['Low', 'Med', 'High'])\n",
    "\n",
    "df_markets = df[df.market_id.isin([1,5])]\n",
    "df_markets.groupby(['market_id', 'volume_bin'])['is_late'].mean().unstack()\n"
   ]
  },
  {
   "cell_type": "code",
   "execution_count": 49,
   "metadata": {},
   "outputs": [
    {
     "data": {
      "text/plain": [
       "<Axes: xlabel='volume_bin', ylabel='is_on_time'>"
      ]
     },
     "execution_count": 49,
     "metadata": {},
     "output_type": "execute_result"
    },
    {
     "data": {
      "image/png": "[encoded data removed]",
      "text/plain": [
       "<Figure size 640x480 with 1 Axes>"
      ]
     },
     "metadata": {},
     "output_type": "display_data"
    }
   ],
   "source": [
    "import seaborn as sns\n",
    "sns.lineplot(data=df_markets, x='volume_bin', y='is_on_time', hue='market_id')\n"
   ]
  },
  {
   "cell_type": "markdown",
   "metadata": {},
   "source": [
    "- Market 1 is the worse-performing market in terms of on-time delivery.\n",
    "\n",
    "- Higher order volumes exacerbate lateness for both markets, but Market 1 struggles more overall."
   ]
  },
  {
   "cell_type": "markdown",
   "metadata": {},
   "source": [
    "Null hypothesis (H₀): Market 1 and Market 5 have the same lateness rate within this bin. Any observed difference is due to random chance.\n",
    "\n",
    "Alternative hypothesis (H₁): Market 1 has a higher lateness rate than Market 5 within this bin."
   ]
  },
  {
   "cell_type": "code",
   "execution_count": 54,
   "metadata": {},
   "outputs": [
    {
     "name": "stdout",
     "output_type": "stream",
     "text": [
      "Low\n",
      "Z-statistic: 12.400593748652506, p-value: 2.593943615804276e-35\n",
      "\n",
      "\n",
      "Med\n",
      "Z-statistic: 7.284019530589962, p-value: 3.240180748321783e-13\n",
      "\n",
      "\n",
      "High\n",
      "Z-statistic: 4.5365952078821765, p-value: 5.71696867764065e-06\n",
      "\n",
      "\n"
     ]
    }
   ],
   "source": [
    "from scipy.stats import chi2_contingency\n",
    "\n",
    "from statsmodels.stats.proportion import proportions_ztest\n",
    "\n",
    "df_bin = df[df['volume_bin'] == 'Low']\n",
    "# Example for one bin\n",
    "late_market1 = df_bin[(df_bin['market_id']==1)]['is_late'].sum()\n",
    "n_market1 = df_bin[df_bin['market_id']==1].shape[0]\n",
    "\n",
    "late_market5 = df_bin[(df_bin['market_id']==5)]['is_late'].sum()\n",
    "n_market5 = df_bin[df_bin['market_id']==5].shape[0]\n",
    "\n",
    "count = [late_market1, late_market5]\n",
    "nobs = [n_market1, n_market5]\n",
    "\n",
    "stat, pval = proportions_ztest(count, nobs)\n",
    "print(\"Low\")\n",
    "print(f\"Z-statistic: {stat}, p-value: {pval}\")\n",
    "print('\\n')\n",
    "\n",
    "\n",
    "\n",
    "df_bin = df[df['volume_bin'] == 'Med']\n",
    "# Example for one bin\n",
    "late_market1 = df_bin[(df_bin['market_id']==1)]['is_late'].sum()\n",
    "n_market1 = df_bin[df_bin['market_id']==1].shape[0]\n",
    "\n",
    "late_market5 = df_bin[(df_bin['market_id']==5)]['is_late'].sum()\n",
    "n_market5 = df_bin[df_bin['market_id']==5].shape[0]\n",
    "\n",
    "count = [late_market1, late_market5]\n",
    "nobs = [n_market1, n_market5]\n",
    "\n",
    "stat, pval = proportions_ztest(count, nobs)\n",
    "print(\"Med\")\n",
    "print(f\"Z-statistic: {stat}, p-value: {pval}\")\n",
    "print('\\n')\n",
    "\n",
    "\n",
    "\n",
    "\n",
    "df_bin = df[df['volume_bin'] == 'High']\n",
    "# Example for one bin\n",
    "late_market1 = df_bin[(df_bin['market_id']==1)]['is_late'].sum()\n",
    "n_market1 = df_bin[df_bin['market_id']==1].shape[0]\n",
    "\n",
    "late_market5 = df_bin[(df_bin['market_id']==5)]['is_late'].sum()\n",
    "n_market5 = df_bin[df_bin['market_id']==5].shape[0]\n",
    "\n",
    "count = [late_market1, late_market5]\n",
    "nobs = [n_market1, n_market5]\n",
    "\n",
    "stat, pval = proportions_ztest(count, nobs)\n",
    "print(\"High\")\n",
    "print(f\"Z-statistic: {stat}, p-value: {pval}\")\n",
    "print('\\n')\n",
    "\n",
    "\n"
   ]
  },
  {
   "cell_type": "markdown",
   "metadata": {},
   "source": [
    "- In every bin, Market 1 has a significantly higher proportion of late deliveries than Market 5.\n",
    "\n",
    "- This confirms that order size alone does not explain Market 1’s lateness — something else is amplifying delays."
   ]
  },
  {
   "cell_type": "markdown",
   "metadata": {},
   "source": [
    "# Busy_ratio"
   ]
  },
  {
   "cell_type": "markdown",
   "metadata": {},
   "source": [
    "Null hypothesis (H₀): Busy ratio has no effect on the probability of lateness in this market.\n",
    "\n",
    "Alternative hypothesis (H₁): A higher busy ratio increases the probability of lateness in this market."
   ]
  },
  {
   "cell_type": "code",
   "execution_count": 34,
   "metadata": {},
   "outputs": [
    {
     "name": "stdout",
     "output_type": "stream",
     "text": [
      "Optimization terminated successfully.\n",
      "         Current function value: 0.481181\n",
      "         Iterations 6\n",
      "                           Logit Regression Results                           \n",
      "==============================================================================\n",
      "Dep. Variable:            is_late_int   No. Observations:                35640\n",
      "Model:                          Logit   Df Residuals:                    35638\n",
      "Method:                           MLE   Df Model:                            1\n",
      "Date:                Fri, 15 Aug 2025   Pseudo R-squ.:                 0.01671\n",
      "Time:                        12:16:49   Log-Likelihood:                -17149.\n",
      "converged:                       True   LL-Null:                       -17441.\n",
      "Covariance Type:            nonrobust   LLR p-value:                9.346e-129\n",
      "==============================================================================\n",
      "                 coef    std err          z      P>|z|      [0.025      0.975]\n",
      "------------------------------------------------------------------------------\n",
      "Intercept      0.0684      0.059      1.160      0.246      -0.047       0.184\n",
      "busy_ratio     1.4515      0.062     23.395      0.000       1.330       1.573\n",
      "==============================================================================\n",
      "Optimization terminated successfully.\n",
      "         Current function value: 0.553424\n",
      "         Iterations 6\n",
      "                           Logit Regression Results                           \n",
      "==============================================================================\n",
      "Dep. Variable:            is_late_int   No. Observations:                17875\n",
      "Model:                          Logit   Df Residuals:                    17873\n",
      "Method:                           MLE   Df Model:                            1\n",
      "Date:                Fri, 15 Aug 2025   Pseudo R-squ.:                0.004849\n",
      "Time:                        12:16:49   Log-Likelihood:                -9892.5\n",
      "converged:                       True   LL-Null:                       -9940.7\n",
      "Covariance Type:            nonrobust   LLR p-value:                 9.373e-23\n",
      "==============================================================================\n",
      "                 coef    std err          z      P>|z|      [0.025      0.975]\n",
      "------------------------------------------------------------------------------\n",
      "Intercept      0.6949      0.050     13.937      0.000       0.597       0.793\n",
      "busy_ratio     0.5164      0.057      9.098      0.000       0.405       0.628\n",
      "==============================================================================\n"
     ]
    }
   ],
   "source": [
    "import numpy as np\n",
    "\n",
    "\n",
    "# Filter Market 1\n",
    "df_m1 = df[df['market_id'] == 1].copy()\n",
    "df_m1 = df_m1[np.isfinite(df_m1['busy_ratio'])]\n",
    "\n",
    "model_m1 = smf.logit(\"is_late_int ~ busy_ratio\", data=df_m1).fit()\n",
    "print(model_m1.summary())\n",
    "\n",
    "# Filter Market 5\n",
    "df_m5 = df[df['market_id'] == 5].copy()\n",
    "df_m5 = df_m5[np.isfinite(df_m5['busy_ratio'])]\n",
    "\n",
    "model_m5 = smf.logit(\"is_late_int ~ busy_ratio\", data=df_m5).fit()\n",
    "print(model_m5.summary())\n"
   ]
  },
  {
   "cell_type": "markdown",
   "metadata": {},
   "source": [
    "- Market 1 is highly sensitive to driver busyness.\n",
    "\n",
    "    OR ~4.3 → lateness skyrockets if dashers are busy.\n",
    "\n",
    "-  Market 5 is less sensitive.\n",
    "\n",
    "    OR ~1.7 → busy dashers still increase lateness, but effect is smaller."
   ]
  },
  {
   "cell_type": "markdown",
   "metadata": {},
   "source": [
    "# Order_to_dasher Ratio"
   ]
  },
  {
   "cell_type": "markdown",
   "metadata": {},
   "source": [
    "Hypotheses:\n",
    "\n",
    "- Null hypothesis (H0): The mean order-to-dasher ratio is the same in both markets.\n",
    "\n",
    "- Alternative hypothesis (Ha): The mean order-to-dasher ratio is different between the two markets."
   ]
  },
  {
   "cell_type": "code",
   "execution_count": 35,
   "metadata": {},
   "outputs": [
    {
     "name": "stdout",
     "output_type": "stream",
     "text": [
      "42.650601007026424 0.0\n"
     ]
    }
   ],
   "source": [
    "\n",
    "market1_ratio = df[df['market_id'] == 1]['order_to_dasher_ratio']\n",
    "market5_ratio = df[df['market_id'] == 5]['order_to_dasher_ratio']\n",
    "\n",
    "market1_ratio_clean = market1_ratio[np.isfinite(market1_ratio)]\n",
    "market5_ratio_clean = market5_ratio[np.isfinite(market5_ratio)]\n",
    "\n",
    "from scipy.stats import ttest_ind\n",
    "\n",
    "t_stat, p_value = ttest_ind(market1_ratio_clean, market5_ratio_clean, equal_var=False)\n",
    "print(t_stat, p_value)\n"
   ]
  },
  {
   "cell_type": "markdown",
   "metadata": {},
   "source": [
    "- There is strong statistical evidence that the mean order-to-dasher ratio in Market 1 is significantly higher than in Market 5.\n",
    "\n",
    "- This supports the operational observation that dashers in Market 1 are overloaded, contributing to higher lateness."
   ]
  },
  {
   "cell_type": "markdown",
   "metadata": {},
   "source": [
    "Hypotheses\n",
    "\n",
    "1. Effect of order-to-dasher ratio (baseline: Market 5)\n",
    "\n",
    "- H0: The order-to-dasher ratio has no effect on lateness in Market 5 (β_order_to_dasher_ratio = 0).\n",
    "\n",
    "- Ha: The order-to-dasher ratio affects lateness in Market 5 (β_order_to_dasher_ratio ≠ 0).\n",
    "\n",
    "2. Effect of Market 1 indicator (baseline: ratio = 0)\n",
    "\n",
    "- H0: Baseline lateness odds are the same in Market 1 and Market 5 (β_is_market_1 = 0).\n",
    "\n",
    "- Ha: Baseline lateness odds differ between Market 1 and Market 5 (β_is_market_1 ≠ 0).\n",
    "\n",
    "3. Interaction term\n",
    "\n",
    "- H0: The effect of order-to-dasher ratio is the same in Market 1 and Market 5 (β_ratio:is_market_1 = 0).\n",
    "\n",
    "- Ha: The effect of order-to-dasher ratio differs between Market 1 and Market 5 (β_ratio:is_market_1 ≠ 0)."
   ]
  },
  {
   "cell_type": "code",
   "execution_count": 36,
   "metadata": {},
   "outputs": [],
   "source": [
    "df_1_5 = df[df['market_id'].isin([1, 5])].copy()\n",
    "\n",
    "df_1_5['is_market_1'] = (df_1_5['market_id'] == 1).astype(int)\n"
   ]
  },
  {
   "cell_type": "code",
   "execution_count": 37,
   "metadata": {},
   "outputs": [
    {
     "name": "stdout",
     "output_type": "stream",
     "text": [
      "Optimization terminated successfully.\n",
      "         Current function value: 0.476031\n",
      "         Iterations 6\n",
      "                           Logit Regression Results                           \n",
      "==============================================================================\n",
      "Dep. Variable:            is_late_int   No. Observations:                53515\n",
      "Model:                          Logit   Df Residuals:                    53511\n",
      "Method:                           MLE   Df Model:                            3\n",
      "Date:                Fri, 15 Aug 2025   Pseudo R-squ.:                 0.07289\n",
      "Time:                        12:16:50   Log-Likelihood:                -25475.\n",
      "converged:                       True   LL-Null:                       -27478.\n",
      "Covariance Type:            nonrobust   LLR p-value:                     0.000\n",
      "=====================================================================================================\n",
      "                                        coef    std err          z      P>|z|      [0.025      0.975]\n",
      "-----------------------------------------------------------------------------------------------------\n",
      "Intercept                            -0.8438      0.051    -16.612      0.000      -0.943      -0.744\n",
      "order_to_dasher_ratio                 2.0477      0.053     38.693      0.000       1.944       2.151\n",
      "is_market_1                           0.6385      0.064      9.907      0.000       0.512       0.765\n",
      "order_to_dasher_ratio:is_market_1    -0.6036      0.063     -9.521      0.000      -0.728      -0.479\n",
      "=====================================================================================================\n"
     ]
    }
   ],
   "source": [
    "\n",
    "df_1_5_clean = df_1_5[np.isfinite(df_1_5['order_to_dasher_ratio'])].copy()\n",
    "\n",
    "\n",
    "formula = 'is_late_int ~ order_to_dasher_ratio + is_market_1 + order_to_dasher_ratio:is_market_1'\n",
    "model = smf.logit(formula=formula, data=df_1_5_clean).fit()\n",
    "print(model.summary())\n"
   ]
  },
  {
   "cell_type": "markdown",
   "metadata": {},
   "source": [
    "- Baseline lateness (is_market_1) = 0.639 → Market 1 has higher lateness even when order-to-dasher ratio = 0.\n",
    "\n",
    "- Slope for ratio in Market 1 = 2.048 − 0.604 ≈ 1.444 → lateness still increases with ratio, but less steeply than in Market 5.\n",
    "\n",
    "- Slope for ratio in Market 5 = 2.048 → lateness is more sensitive to changes in ratio."
   ]
  },
  {
   "cell_type": "markdown",
   "metadata": {},
   "source": [
    "# Exporting the dataset"
   ]
  },
  {
   "cell_type": "code",
   "execution_count": 38,
   "metadata": {},
   "outputs": [],
   "source": [
    "df.to_csv(\"stattest_dataset.csv\", index=False)\n"
   ]
  }
 ],
 "metadata": {
  "kernelspec": {
   "display_name": "Python 3.11 (venv)",
   "language": "python",
   "name": "venv311"
  },
  "language_info": {
   "codemirror_mode": {
    "name": "ipython",
    "version": 3
   },
   "file_extension": ".py",
   "mimetype": "text/x-python",
   "name": "python",
   "nbconvert_exporter": "python",
   "pygments_lexer": "ipython3",
   "version": "3.11.8"
  }
 },
 "nbformat": 4,
 "nbformat_minor": 2
}
